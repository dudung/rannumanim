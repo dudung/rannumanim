{
 "cells": [
  {
   "cell_type": "markdown",
   "id": "2c7283f2",
   "metadata": {},
   "source": [
    "# misc_hindex\n",
    "Calculate h-index of an author, who has papers cited random times"
   ]
  },
  {
   "cell_type": "code",
   "execution_count": 1,
   "id": "0b2df804",
   "metadata": {},
   "outputs": [
    {
     "name": "stdout",
     "output_type": "stream",
     "text": [
      "paper =  18\n",
      "citation =  [7, 13, 14, 5, 13, 9, 13, 17, 13, 8, 12, 10, 7, 20, 12, 6, 5, 20] \n",
      "\n",
      "pa ci\n",
      "01 20\n",
      "02 20\n",
      "03 17\n",
      "04 14\n",
      "05 13\n",
      "06 13\n",
      "07 13\n",
      "08 13\n",
      "09 12\n",
      "10 12\n",
      "-- --\n",
      "11 10\n",
      "12 09\n",
      "13 08\n",
      "14 07\n",
      "15 07\n",
      "16 06\n",
      "17 05\n",
      "18 05\n",
      "\n",
      "h-index is 10\n"
     ]
    }
   ],
   "source": [
    "import random, math\n",
    "\n",
    "# define number of papers\n",
    "minpap = 10\n",
    "maxpap = 30\n",
    "N = random.randint(minpap, maxpap)\n",
    "\n",
    "# define papers citation\n",
    "citation_org = [0] * N\n",
    "\n",
    "# generate number of citation randomly\n",
    "for i in range(0, N):\n",
    "    mincit = 5\n",
    "    maxcit = 20\n",
    "    cit = random.randint(mincit, maxcit)\n",
    "    citation_org[i] = cit\n",
    "\n",
    "print(\"paper = \", N)\n",
    "print(\"citation = \", citation_org, \"\\n\")\n",
    "\n",
    "citation_srt = sorted(citation_org, reverse=True)\n",
    "\n",
    "end = True\n",
    "h = 0\n",
    "print(\"pa ci\")\n",
    "for i in range(len(citation_srt)):\n",
    "    cit = citation_srt[i]\n",
    "    j = i + 1\n",
    "    if cit >= j:\n",
    "        h = j\n",
    "    elif end:\n",
    "        print(\"-- --\")\n",
    "        end = False\n",
    "\n",
    "    print(f'{j:02}', f'{cit:02}')\n",
    "\n",
    "print(\"\\nh-index is\", h)"
   ]
  },
  {
   "cell_type": "markdown",
   "id": "f6780cb7",
   "metadata": {},
   "source": [
    "## refs\n",
    "1. -, \"Calculate Your Academic Footprint: Your H-Index\", University of Waterloo Library, 15 Sep 2022, url <https://subjectguides.uwaterloo.ca/calculate-academic-footprint/YourHIndex> [20221012]."
   ]
  }
 ],
 "metadata": {
  "authors": [
   {
    "name": "Sparisoma Viridi"
   }
  ],
  "kernelspec": {
   "display_name": "Python 3 (ipykernel)",
   "language": "python",
   "name": "python3"
  },
  "language_info": {
   "codemirror_mode": {
    "name": "ipython",
    "version": 3
   },
   "file_extension": ".py",
   "mimetype": "text/x-python",
   "name": "python",
   "nbconvert_exporter": "python",
   "pygments_lexer": "ipython3",
   "version": "3.10.7"
  },
  "title": "misc_hindex"
 },
 "nbformat": 4,
 "nbformat_minor": 5
}
