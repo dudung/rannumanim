{
 "cells": [
  {
   "cell_type": "markdown",
   "id": "2c7283f2",
   "metadata": {},
   "source": [
    "# misc_hindex\n",
    "Calculate h-index of an author, who has papers cited random times"
   ]
  },
  {
   "cell_type": "code",
   "execution_count": 10,
   "id": "0b2df804",
   "metadata": {},
   "outputs": [
    {
     "name": "stdout",
     "output_type": "stream",
     "text": [
      "paper =  24\n",
      "citation =  [20, 7, 6, 9, 19, 12, 6, 16, 9, 19, 8, 15, 11, 19, 12, 17, 14, 15, 20, 16, 17, 13, 6, 19] \n",
      "\n",
      "pa ci\n",
      "01 20\n",
      "02 20\n",
      "03 19\n",
      "04 19\n",
      "05 19\n",
      "06 19\n",
      "07 17\n",
      "08 17\n",
      "09 16\n",
      "10 16\n",
      "11 15\n",
      "12 15\n",
      "13 14\n",
      "-- --\n",
      "14 13\n",
      "15 12\n",
      "16 12\n",
      "17 11\n",
      "18 09\n",
      "19 09\n",
      "20 08\n",
      "21 07\n",
      "22 06\n",
      "23 06\n",
      "24 06\n",
      "\n",
      "h-index is 13\n"
     ]
    }
   ],
   "source": [
    "import random, math\n",
    "\n",
    "# define number of papers\n",
    "minpap = 10\n",
    "maxpap = 30\n",
    "N = random.randint(minpap, maxpap)\n",
    "\n",
    "# define papers citation\n",
    "citation_org = [0] * N\n",
    "\n",
    "# generate number of citation randomly\n",
    "for i in range(0, N):\n",
    "    mincit = 5\n",
    "    maxcit = 20\n",
    "    cit = random.randint(mincit, maxcit)\n",
    "    citation_org[i] = cit\n",
    "\n",
    "print(\"paper = \", N)\n",
    "print(\"citation = \", citation_org, \"\\n\")\n",
    "\n",
    "citation_srt = sorted(citation_org, reverse=True)\n",
    "\n",
    "end = True\n",
    "h = 0\n",
    "print(\"pa ci\")\n",
    "for i in range(len(citation_srt)):\n",
    "    cit = citation_srt[i]\n",
    "    j = i + 1\n",
    "    if cit >= j:\n",
    "        h = j\n",
    "    elif end:\n",
    "        print(\"-- --\")\n",
    "        end = False\n",
    "\n",
    "    print(f'{j:02}', f'{cit:02}')\n",
    "\n",
    "print(\"\\nh-index is\", h)"
   ]
  },
  {
   "cell_type": "markdown",
   "id": "f6780cb7",
   "metadata": {},
   "source": [
    "## refs\n",
    "1. -, \"Calculate Your Academic Footprint: Your H-Index\", University of Waterloo Library, 15 Sep 2022, url <https://subjectguides.uwaterloo.ca/calculate-academic-footprint/YourHIndex> [20221012]."
   ]
  }
 ],
 "metadata": {
  "authors": [
   {
    "name": "Sparisoma Viridi"
   }
  ],
  "kernelspec": {
   "display_name": "Python 3 (ipykernel)",
   "language": "python",
   "name": "python3"
  },
  "language_info": {
   "codemirror_mode": {
    "name": "ipython",
    "version": 3
   },
   "file_extension": ".py",
   "mimetype": "text/x-python",
   "name": "python",
   "nbconvert_exporter": "python",
   "pygments_lexer": "ipython3",
   "version": "3.9.12"
  },
  "title": "misc_hindex"
 },
 "nbformat": 4,
 "nbformat_minor": 5
}
