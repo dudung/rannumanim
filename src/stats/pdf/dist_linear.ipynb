{
 "cells": [
  {
   "cell_type": "markdown",
   "id": "2c7283f2",
   "metadata": {},
   "source": [
    "# dist_linear\n",
    "Create linear distribution from uniform distribution"
   ]
  },
  {
   "cell_type": "code",
   "execution_count": 25,
   "id": "0b2df804",
   "metadata": {},
   "outputs": [
    {
     "name": "stdout",
     "output_type": "stream",
     "text": [
      "0.01005\n",
      "0.03086\n",
      "0.0498\n",
      "0.07013\n",
      "0.09033\n",
      "0.11078\n",
      "0.13056\n",
      "0.14951\n",
      "0.16912\n",
      "0.18886\n"
     ]
    }
   ],
   "source": [
    "import random, math\n",
    "\n",
    "# define PDF\n",
    "M = 10\n",
    "z = [0] * M\n",
    "\n",
    "N = 100000\n",
    "\n",
    "for i in range(N):\n",
    "    x = random.uniform(0, 1)\n",
    "    y = math.sqrt(x)\n",
    "    j = math.floor(y * M)\n",
    "    z[j] += 1\n",
    "\n",
    "f = [i / N for i in z]\n",
    "for i in f:\n",
    "    print(i)"
   ]
  },
  {
   "cell_type": "markdown",
   "id": "f6780cb7",
   "metadata": {},
   "source": [
    "## refs\n",
    "1. Peter Siegel, \"Lecture 8 Generating a non-uniform probability distribution\", Phy404 Computational Nuclear-Particle Physics, Physics Department, California State Polytechnic University, Pomona, Spring 2013, url <https://www.cpp.edu/~pbsiegel/phy40413/lectures/lecture8.pdf> [20221011]."
   ]
  },
  {
   "cell_type": "code",
   "execution_count": null,
   "id": "35a27645",
   "metadata": {},
   "outputs": [],
   "source": []
  }
 ],
 "metadata": {
  "authors": [
   {
    "name": "Sparisoma Viridi"
   }
  ],
  "kernelspec": {
   "display_name": "Python 3 (ipykernel)",
   "language": "python",
   "name": "python3"
  },
  "language_info": {
   "codemirror_mode": {
    "name": "ipython",
    "version": 3
   },
   "file_extension": ".py",
   "mimetype": "text/x-python",
   "name": "python",
   "nbconvert_exporter": "python",
   "pygments_lexer": "ipython3",
   "version": "3.10.7"
  },
  "title": "linear_dist"
 },
 "nbformat": 4,
 "nbformat_minor": 5
}
