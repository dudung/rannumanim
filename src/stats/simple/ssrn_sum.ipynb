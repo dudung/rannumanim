{
 "cells": [
  {
   "cell_type": "markdown",
   "id": "2c7283f2",
   "metadata": {},
   "source": [
    "# ssrn_sum\n",
    "Simple statistics with random number to calculate sum"
   ]
  },
  {
   "cell_type": "code",
   "execution_count": 5,
   "id": "0b2df804",
   "metadata": {},
   "outputs": [
    {
     "name": "stdout",
     "output_type": "stream",
     "text": [
      "Numbers are [10, 16, 20, 16, 20]\n",
      "The sum is 82\n"
     ]
    }
   ],
   "source": [
    "import random\n",
    "\n",
    "N = 5\n",
    "nums = []\n",
    "xmin = 5\n",
    "xmax = 20\n",
    "\n",
    "for i in range(0, N):\n",
    "    x = random.randint(xmin, xmax)\n",
    "    nums.append(x)\n",
    "\n",
    "print(\"Numbers are\", nums)\n",
    "print(\"The sum is\", sum(nums))"
   ]
  },
  {
   "cell_type": "code",
   "execution_count": null,
   "id": "4bd127ac",
   "metadata": {},
   "outputs": [],
   "source": []
  }
 ],
 "metadata": {
  "authors": [
   {
    "name": "Sparisoma Viridi"
   }
  ],
  "kernelspec": {
   "display_name": "Python 3 (ipykernel)",
   "language": "python",
   "name": "python3"
  },
  "language_info": {
   "codemirror_mode": {
    "name": "ipython",
    "version": 3
   },
   "file_extension": ".py",
   "mimetype": "text/x-python",
   "name": "python",
   "nbconvert_exporter": "python",
   "pygments_lexer": "ipython3",
   "version": "3.10.7"
  },
  "title": "ssrn_sum"
 },
 "nbformat": 4,
 "nbformat_minor": 5
}
