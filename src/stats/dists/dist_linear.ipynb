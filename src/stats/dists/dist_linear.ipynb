{
 "cells": [
  {
   "cell_type": "markdown",
   "id": "2c7283f2",
   "metadata": {},
   "source": [
    "# dist_linear\n",
    "Create linear distribution from uniform distribution"
   ]
  },
  {
   "cell_type": "code",
   "execution_count": 1,
   "id": "0b2df804",
   "metadata": {},
   "outputs": [],
   "source": [
    "import random\n",
    "\n"
   ]
  },
  {
   "cell_type": "markdown",
   "id": "f6780cb7",
   "metadata": {},
   "source": [
    "## refs\n",
    "1. Peter Siegel, \"Lecture 8 Generating a non-uniform probability distribution\", Phy404 Computational Nuclear-Particle Physics, Physics Department, California State Polytechnic University, Pomona, Spring 2013, url <https://www.cpp.edu/~pbsiegel/phy40413/lectures/lecture8.pdf> [20221011]."
   ]
  },
  {
   "cell_type": "code",
   "execution_count": null,
   "id": "35a27645",
   "metadata": {},
   "outputs": [],
   "source": []
  }
 ],
 "metadata": {
  "authors": [
   {
    "name": "Sparisoma Viridi"
   }
  ],
  "kernelspec": {
   "display_name": "Python 3 (ipykernel)",
   "language": "python",
   "name": "python3"
  },
  "language_info": {
   "codemirror_mode": {
    "name": "ipython",
    "version": 3
   },
   "file_extension": ".py",
   "mimetype": "text/x-python",
   "name": "python",
   "nbconvert_exporter": "python",
   "pygments_lexer": "ipython3",
   "version": "3.10.7"
  },
  "title": "linear_dist"
 },
 "nbformat": 4,
 "nbformat_minor": 5
}
